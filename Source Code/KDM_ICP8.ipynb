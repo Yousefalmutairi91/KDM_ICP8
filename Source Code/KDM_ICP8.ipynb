{
  "nbformat": 4,
  "nbformat_minor": 0,
  "metadata": {
    "colab": {
      "name": "KDM_ICP8.ipynb",
      "provenance": [],
      "collapsed_sections": []
    },
    "kernelspec": {
      "name": "python3",
      "display_name": "Python 3"
    }
  },
  "cells": [
    {
      "cell_type": "code",
      "metadata": {
        "colab": {
          "base_uri": "https://localhost:8080/"
        },
        "id": "SGjwhYvQDcZK",
        "outputId": "f96b81e1-e836-4ea9-8721-2db3d476d776"
      },
      "source": [
        "# Install stanza, Installing and importing Stanza are as simple as running the following commands. \n",
        "!pip install stanza\n",
        "\n",
        "# Import stanza\n",
        "import stanza"
      ],
      "execution_count": 2,
      "outputs": [
        {
          "output_type": "stream",
          "text": [
            "Collecting stanza\n",
            "\u001b[?25l  Downloading https://files.pythonhosted.org/packages/50/ae/a70a58ce6b4e2daad538688806ee0f238dbe601954582a74ea57cde6c532/stanza-1.2-py3-none-any.whl (282kB)\n",
            "\u001b[K     |████████████████████████████████| 286kB 6.2MB/s \n",
            "\u001b[?25hRequirement already satisfied: tqdm in /usr/local/lib/python3.7/dist-packages (from stanza) (4.41.1)\n",
            "Requirement already satisfied: protobuf in /usr/local/lib/python3.7/dist-packages (from stanza) (3.12.4)\n",
            "Requirement already satisfied: numpy in /usr/local/lib/python3.7/dist-packages (from stanza) (1.19.5)\n",
            "Requirement already satisfied: torch>=1.3.0 in /usr/local/lib/python3.7/dist-packages (from stanza) (1.8.0+cu101)\n",
            "Requirement already satisfied: requests in /usr/local/lib/python3.7/dist-packages (from stanza) (2.23.0)\n",
            "Requirement already satisfied: setuptools in /usr/local/lib/python3.7/dist-packages (from protobuf->stanza) (54.0.0)\n",
            "Requirement already satisfied: six>=1.9 in /usr/local/lib/python3.7/dist-packages (from protobuf->stanza) (1.15.0)\n",
            "Requirement already satisfied: typing-extensions in /usr/local/lib/python3.7/dist-packages (from torch>=1.3.0->stanza) (3.7.4.3)\n",
            "Requirement already satisfied: idna<3,>=2.5 in /usr/local/lib/python3.7/dist-packages (from requests->stanza) (2.10)\n",
            "Requirement already satisfied: certifi>=2017.4.17 in /usr/local/lib/python3.7/dist-packages (from requests->stanza) (2020.12.5)\n",
            "Requirement already satisfied: urllib3!=1.25.0,!=1.25.1,<1.26,>=1.21.1 in /usr/local/lib/python3.7/dist-packages (from requests->stanza) (1.24.3)\n",
            "Requirement already satisfied: chardet<4,>=3.0.2 in /usr/local/lib/python3.7/dist-packages (from requests->stanza) (3.0.4)\n",
            "Installing collected packages: stanza\n",
            "Successfully installed stanza-1.2\n"
          ],
          "name": "stdout"
        }
      ]
    },
    {
      "cell_type": "code",
      "metadata": {
        "id": "teZm1IFGFRRN",
        "colab": {
          "base_uri": "https://localhost:8080/"
        },
        "outputId": "3fb2c159-5aba-477e-cc31-ecc9e30a3e43"
      },
      "source": [
        "# Download the Stanford CoreNLP package with Stanza's installation command\n",
        "# This'll take several minutes, depending on the network speed\n",
        "corenlp_dir = './corenlp'\n",
        "stanza.install_corenlp(dir=corenlp_dir)\n",
        "\n",
        "# Set the CORENLP_HOME environment variable to point to the installation location\n",
        "import os\n",
        "os.environ[\"CORENLP_HOME\"] = corenlp_dir"
      ],
      "execution_count": 3,
      "outputs": [
        {
          "output_type": "stream",
          "text": [
            "2021-03-16 01:55:31 INFO: Installing CoreNLP package into ./corenlp...\n",
            "Downloading http://nlp.stanford.edu/software/stanford-corenlp-latest.zip: 100%|██████████| 505M/505M [04:22<00:00, 1.92MB/s]\n",
            "2021-03-16 01:59:57 WARNING: For customized installation location, please set the `CORENLP_HOME` environment variable to the location of the installation. In Unix, this is done with `export CORENLP_HOME=./corenlp`.\n"
          ],
          "name": "stderr"
        }
      ]
    },
    {
      "cell_type": "code",
      "metadata": {
        "colab": {
          "base_uri": "https://localhost:8080/"
        },
        "id": "-xGRfOjoFW8o",
        "outputId": "60f165cf-47fe-4680-8b4a-19efcb34db59"
      },
      "source": [
        "# Import client module\n",
        "from stanza.server import CoreNLPClient\n",
        "\n",
        "client = CoreNLPClient(timeout=150000000, be_quiet=True, annotators=['openie'], \n",
        "endpoint='http://localhost:9002')\n",
        "client.start()\n",
        "import time\n",
        "time.sleep(10)"
      ],
      "execution_count": 4,
      "outputs": [
        {
          "output_type": "stream",
          "text": [
            "2021-03-16 02:03:13 INFO: Writing properties to tmp file: corenlp_server-87cc1c6a9e334a50.props\n",
            "2021-03-16 02:03:13 INFO: Starting server with command: java -Xmx5G -cp ./corenlp/* edu.stanford.nlp.pipeline.StanfordCoreNLPServer -port 9002 -timeout 150000000 -threads 5 -maxCharLength 100000 -quiet True -serverProperties corenlp_server-87cc1c6a9e334a50.props -annotators openie -preload -outputFormat serialized\n"
          ],
          "name": "stderr"
        }
      ]
    },
    {
      "cell_type": "code",
      "metadata": {
        "colab": {
          "base_uri": "https://localhost:8080/"
        },
        "id": "PQjw8p2JJXsN",
        "outputId": "0c25b9c3-b74f-4198-e9c5-0dbc2e241f77"
      },
      "source": [
        "import json\n",
        "t1='Bill Gates is co-chair of the Bill & Melinda Gates Foundation. Along with co-chair Melinda Gates, he shapes and approves grantmaking strategies, advocates for the foundation’s issues, and helps set the overall direction of the organization. Bill and Melinda Gates work together to expand the opportunity to the world’s most disadvantaged people by collaborating with grantees and partners. They also participate in national and international events and travel extensively to focus attention on the issues the foundation champions.'\n",
        "t2='Jeffrey Preston Bezos (/ˈbeɪzoʊs/;[a][3] né Jorgensen; born January 12, 1964)[4] is an American internet entrepreneur, industrialist, media proprietor, and investor. Bezos is the founder and CEO[b] of the multi-national technology company Amazon. He is the richest person in the world according to the Forbes Real-Time Billionaires ranking. Born in Albuquerque and raised in Houston and later Miami, Bezos graduated from Princeton University in 1986. He holds a degree in electrical engineering and computer science. He worked on Wall Street in a variety of related fields from 1986 to early 1994. Bezos founded Amazon in late 1994, on a cross-country road trip from New York City to Seattle. The company began as an online bookstore and has since expanded to a wide variety of other e-commerce products and services, including video and audio streaming, cloud computing, and artificial intelligence. It is currently the worlds largest online sales company, the largest Internet company by revenue, and the worlds largest provider of virtual assistants[7] and cloud infrastructure services through its Amazon Web Services branch.'\n",
        "t3 = \"Elon Reeve Musk FRS (/ˈiːlɒn/ EE-lon; born June 28, 1971) is a business magnate, industrial designer, and engineer.[3] He is the founder, CEO, CTO, and chief designer of SpaceX; early investor,[b] CEO, and product architect of Tesla, Inc.; founder of The Boring Company; co-founder of Neuralink; and co-founder and initial co-chairman of OpenAI. A centibillionaire, Musk is one of the richest people in the world.[c]. Musk was born to a Canadian mother and South African father and raised in Pretoria, South Africa. He briefly attended the University of Pretoria before moving to Canada aged 17 to attend Queen's University. He transferred to the University of Pennsylvania two years later, where he received dual bachelor's degrees in economics and physics. He moved to California in 1995 to attend Stanford University but decided instead to pursue a business career, co-founding the web software company Zip2 with his brother Kimbal. The startup was acquired by Compaq for $307 million in 1999. Musk co-founded online bank X.com that same year, which merged with Confinity in 2000 to form the company PayPal and was subsequently bought by eBay in 2002 for $1.5 billion.\"\n",
        "document = client.annotate(t3, output_format='json')\n",
        "triples = []\n",
        "for sentence in document['sentences']:\n",
        "    for triple in sentence['openie']:\n",
        "        triples.append({\n",
        "           'subject': triple['subject'],\n",
        "           'relation': triple['relation'],\n",
        "            'object': triple['object']\n",
        "        })\n",
        "#print(triples)\n",
        "triples\n"
      ],
      "execution_count": 6,
      "outputs": [
        {
          "output_type": "execute_result",
          "data": {
            "text/plain": [
              "[{'object': 'SpaceX', 'relation': 'designer of', 'subject': 'He'},\n",
              " {'object': 'SpaceX', 'relation': 'chief designer of', 'subject': 'He'},\n",
              " {'object': 'founder', 'relation': 'is', 'subject': 'He'},\n",
              " {'object': 'Neuralink', 'relation': 'co-founder of', 'subject': 'He'},\n",
              " {'object': 'Boring Company', 'relation': 'founder of', 'subject': 'He'},\n",
              " {'object': 'world', 'relation': 'is in', 'subject': 'richest people'},\n",
              " {'object': 'born', 'relation': 'was', 'subject': 'Musk'},\n",
              " {'object': 'mother', 'relation': 'was born to', 'subject': 'Musk'},\n",
              " {'object': 'Canadian mother', 'relation': 'was born to', 'subject': 'Musk'},\n",
              " {'object': 'South Africa', 'relation': 'raised in', 'subject': 'Musk'},\n",
              " {'object': 'Pretoria', 'relation': 'raised in', 'subject': 'Musk'},\n",
              " {'object': 'University', 'relation': 'attended', 'subject': 'He'},\n",
              " {'object': 'moving to Canada aged',\n",
              "  'relation': 'attended University before',\n",
              "  'subject': 'He'},\n",
              " {'object': 'moving',\n",
              "  'relation': 'attended University before',\n",
              "  'subject': 'He'},\n",
              " {'object': 'moving to Canada',\n",
              "  'relation': 'attended University before',\n",
              "  'subject': 'He'},\n",
              " {'object': 'University of Pretoria',\n",
              "  'relation': 'briefly attended',\n",
              "  'subject': 'He'},\n",
              " {'object': 'University', 'relation': 'has', 'subject': 'Queen'},\n",
              " {'object': 'University', 'relation': 'briefly attended', 'subject': 'He'},\n",
              " {'object': 'moving',\n",
              "  'relation': 'briefly attended University before',\n",
              "  'subject': 'He'},\n",
              " {'object': 'moving to Canada aged',\n",
              "  'relation': 'briefly attended University before',\n",
              "  'subject': 'He'},\n",
              " {'object': 'moving to Canada',\n",
              "  'relation': 'briefly attended University before',\n",
              "  'subject': 'He'},\n",
              " {'object': 'University of Pretoria', 'relation': 'attended', 'subject': 'He'},\n",
              " {'object': \"bachelor 's degrees in economics\",\n",
              "  'relation': 'received',\n",
              "  'subject': 'he'},\n",
              " {'object': \"dual bachelor 's degrees in economics\",\n",
              "  'relation': 'received',\n",
              "  'subject': 'he'},\n",
              " {'object': \"dual bachelor 's degrees\",\n",
              "  'relation': 'received',\n",
              "  'subject': 'he'},\n",
              " {'object': 'University', 'relation': 'transferred to', 'subject': 'He'},\n",
              " {'object': \"bachelor 's degrees\", 'relation': 'received', 'subject': 'he'},\n",
              " {'object': 'degrees in economics',\n",
              "  'relation': 'has',\n",
              "  'subject': 'dual bachelor'},\n",
              " {'object': 'University of Pennsylvania',\n",
              "  'relation': 'transferred to',\n",
              "  'subject': 'He'},\n",
              " {'object': 'economics',\n",
              "  'relation': 'is in',\n",
              "  'subject': \"dual bachelor 's degrees\"},\n",
              " {'object': 'Stanford University', 'relation': 'attend', 'subject': 'He'},\n",
              " {'object': 'Compaq', 'relation': 'was acquired by', 'subject': 'startup'},\n",
              " {'object': 'year',\n",
              "  'relation': 'co-founded bank X.com at_time',\n",
              "  'subject': 'Musk'}]"
            ]
          },
          "metadata": {
            "tags": []
          },
          "execution_count": 6
        }
      ]
    },
    {
      "cell_type": "code",
      "metadata": {
        "colab": {
          "base_uri": "https://localhost:8080/"
        },
        "id": "rKNUgdJFsauK",
        "outputId": "8e2646fa-b9ba-423f-d99b-e62338ac0130"
      },
      "source": [
        "#Extra work if we need to extract by sentences\n",
        "\n",
        "result = [document[\"sentences\"][1][\"openie\"] for item in document]\n",
        "for i in result:\n",
        "    for rel in i:\n",
        "        relationSent=rel['relation'],rel['subject'],rel['object']\n",
        "        print('The triplet of the given sentence is')\n",
        "        print(relationSent)"
      ],
      "execution_count": 16,
      "outputs": [
        {
          "output_type": "stream",
          "text": [
            "The triplet of the given sentence is\n",
            "('for', 'foundation', 'issues')\n",
            "The triplet of the given sentence is\n",
            "('shapes', 'he', 'grantmaking strategies')\n",
            "The triplet of the given sentence is\n",
            "('shapes grantmaking strategies Along', 'he', 'co-chair Melinda Gates')\n"
          ],
          "name": "stdout"
        }
      ]
    }
  ]
}